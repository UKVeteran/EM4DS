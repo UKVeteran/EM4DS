{
 "cells": [
  {
   "cell_type": "markdown",
   "source": [
    "## Vectors and Vector Arithmetic\n",
    "### Defining a vector:"
   ],
   "metadata": {
    "collapsed": false
   }
  },
  {
   "cell_type": "code",
   "execution_count": 2,
   "outputs": [
    {
     "name": "stdout",
     "text": [
      "v: [1 2 3]\n"
     ],
     "output_type": "stream"
    }
   ],
   "source": [
    "import numpy as np\n",
    "\n",
    "# define vector\n",
    "v = np.array([1, 2, 3])\n",
    "print(f\"v: {v}\")"
   ],
   "metadata": {
    "collapsed": false,
    "pycharm": {
     "name": "#%%\n",
     "is_executing": false
    }
   }
  },
  {
   "cell_type": "markdown",
   "source": [
    "### Vector addition:"
   ],
   "metadata": {
    "collapsed": false
   }
  },
  {
   "cell_type": "code",
   "execution_count": 4,
   "outputs": [
    {
     "name": "stdout",
     "text": [
      "a = [1 2 3]\n",
      "\n",
      "b = [1 2 3]\n",
      "\n",
      "c = [2 4 6]\n",
      "\n"
     ],
     "output_type": "stream"
    }
   ],
   "source": [
    "a = np.array([1, 2, 3])\n",
    "print(f\"a = {a}\\n\")\n",
    "\n",
    "b = np.array([1, 2, 3])\n",
    "print(f\"b = {b}\\n\")\n",
    "\n",
    "c = a + b\n",
    "print(f\"c = {c}\\n\")"
   ],
   "metadata": {
    "collapsed": false,
    "pycharm": {
     "name": "#%%\n",
     "is_executing": false
    }
   }
  },
  {
   "cell_type": "markdown",
   "source": [
    "### Vector subtraction"
   ],
   "metadata": {
    "collapsed": false
   }
  },
  {
   "cell_type": "code",
   "execution_count": 6,
   "outputs": [
    {
     "name": "stdout",
     "text": [
      "b = [0.5 0.5 0.5]\n",
      "\n",
      "c = [0.5 1.5 2.5]\n"
     ],
     "output_type": "stream"
    }
   ],
   "source": [
    "b = np.array([0.5, 0.5, 0.5])\n",
    "print(f\"b = {b}\\n\")\n",
    "\n",
    "c = a - b\n",
    "print(f\"c = {c}\")"
   ],
   "metadata": {
    "collapsed": false,
    "pycharm": {
     "name": "#%%\n",
     "is_executing": false
    }
   }
  },
  {
   "cell_type": "markdown",
   "source": [
    "### Vector multiplication:"
   ],
   "metadata": {
    "collapsed": false,
    "pycharm": {
     "name": "#%% md\n"
    }
   }
  },
  {
   "cell_type": "code",
   "execution_count": 8,
   "outputs": [
    {
     "name": "stdout",
     "text": [
      "a = [1 2 3]\n",
      "\n",
      "b = [1 2 3]\n",
      "\n",
      "c = [1 4 9]\n",
      "\n"
     ],
     "output_type": "stream"
    }
   ],
   "source": [
    "a = np.array([1, 2, 3])\n",
    "print(f\"a = {a}\\n\")\n",
    "\n",
    "b = np.array([1, 2, 3])\n",
    "print(f\"b = {b}\\n\")\n",
    "\n",
    "\n",
    "c = a * b\n",
    "print(f\"c = {c}\\n\")"
   ],
   "metadata": {
    "collapsed": false,
    "pycharm": {
     "name": "#%%\n",
     "is_executing": false
    }
   }
  },
  {
   "cell_type": "markdown",
   "source": [
    "### Vector division:"
   ],
   "metadata": {
    "collapsed": false
   }
  },
  {
   "cell_type": "code",
   "execution_count": 9,
   "outputs": [
    {
     "name": "stdout",
     "text": [
      "c = [1. 1. 1.]\n"
     ],
     "output_type": "stream"
    }
   ],
   "source": [
    "c = a / b\n",
    "print(f\"c = {c}\")"
   ],
   "metadata": {
    "collapsed": false,
    "pycharm": {
     "name": "#%%\n",
     "is_executing": false
    }
   }
  },
  {
   "cell_type": "markdown",
   "source": [
    "### Vector dot product:"
   ],
   "metadata": {
    "collapsed": false
   }
  },
  {
   "cell_type": "code",
   "execution_count": 10,
   "outputs": [
    {
     "name": "stdout",
     "text": [
      "c = 14\n"
     ],
     "output_type": "stream"
    }
   ],
   "source": [
    "c = a.dot(b)\n",
    "print(f\"c = {c}\")"
   ],
   "metadata": {
    "collapsed": false,
    "pycharm": {
     "name": "#%%\n",
     "is_executing": false
    }
   }
  },
  {
   "cell_type": "markdown",
   "source": [
    "### Vector-scalar multiplication:"
   ],
   "metadata": {
    "collapsed": false,
    "pycharm": {
     "name": "#%% md\n"
    }
   }
  },
  {
   "cell_type": "code",
   "execution_count": 12,
   "outputs": [
    {
     "name": "stdout",
     "text": [
      "a = [2 4 6]\n",
      "\n",
      "scalar s = 0.5\n",
      "\n",
      "c = [1. 2. 3.]\n"
     ],
     "output_type": "stream"
    }
   ],
   "source": [
    "a = np.array([2, 4, 6])\n",
    "print(f\"a = {a}\\n\")\n",
    "\n",
    "s = 0.5\n",
    "print(f\"scalar s = {s}\\n\")\n",
    "\n",
    "c = s * a\n",
    "print(f\"c = {c}\")\n"
   ],
   "metadata": {
    "collapsed": false,
    "pycharm": {
     "name": "#%%\n",
     "is_executing": false
    }
   }
  }
 ],
 "metadata": {
  "kernelspec": {
   "name": "pycharm-f0b42db8",
   "language": "python",
   "display_name": "PyCharm (ML-Deep-Practices)"
  },
  "language_info": {
   "codemirror_mode": {
    "name": "ipython",
    "version": 2
   },
   "file_extension": ".py",
   "mimetype": "text/x-python",
   "name": "python",
   "nbconvert_exporter": "python",
   "pygments_lexer": "ipython2",
   "version": "2.7.6"
  },
  "pycharm": {
   "stem_cell": {
    "cell_type": "raw",
    "source": [],
    "metadata": {
     "collapsed": false
    }
   }
  }
 },
 "nbformat": 4,
 "nbformat_minor": 0
}