{
 "cells": [
  {
   "cell_type": "markdown",
   "metadata": {},
   "source": [
    "## Matrix Decompositions\n",
    "### LU Decomposition:\n",
    "    The LU decomposition is for square matrices and decomposes a\n",
    "    matrix into L and U components.\n",
    "    \n",
    "        A = L.U\n",
    "    \n",
    "    The LU decomposition is found using an iterative numerical\n",
    "    process and can fail for those matrices that cannot be decomposed\n",
    "    or decomposed easily. A variation of this decomposition that is\n",
    "    numerically more stable to solve in practice is called the LUP\n",
    "    decomposition, or the LU decomposition with partial pivoting.\n",
    "    \n",
    "        A = L . U. P"
   ]
  },
  {
   "cell_type": "code",
   "execution_count": 3,
   "metadata": {},
   "outputs": [
    {
     "name": "stdout",
     "output_type": "stream",
     "text": [
      "A: \n",
      "[[1 2 3]\n",
      " [4 5 6]\n",
      " [7 8 9]]\n",
      "\n",
      "P:\n",
      " [[0. 1. 0.]\n",
      " [0. 0. 1.]\n",
      " [1. 0. 0.]]\n",
      "\n",
      "L:\n",
      " [[1.         0.         0.        ]\n",
      " [0.14285714 1.         0.        ]\n",
      " [0.57142857 0.5        1.        ]]\n",
      "\n",
      "U:\n",
      " [[7.         8.         9.        ]\n",
      " [0.         0.85714286 1.71428571]\n",
      " [0.         0.         0.        ]]\n",
      "\n",
      "B:\n",
      " [[1. 2. 3.]\n",
      " [4. 5. 6.]\n",
      " [7. 8. 9.]]\n"
     ]
    }
   ],
   "source": [
    "from numpy import array\n",
    "from scipy.linalg import lu\n",
    "\n",
    "# define a square matrix\n",
    "A = array([[1, 2, 3],\n",
    "           [4, 5, 6],\n",
    "           [7, 8, 9]])\n",
    "print(f\"A: \\n{A}\\n\")\n",
    "\n",
    "# factorize\n",
    "P, L, U = lu(A)\n",
    "print(f\"P:\\n {P}\\n\")\n",
    "print(f\"L:\\n {L}\\n\")\n",
    "print(f\"U:\\n {U}\\n\")\n",
    "\n",
    "# reconstruct\n",
    "B = P.dot(L).dot(U)\n",
    "print(f\"B:\\n {B}\")"
   ]
  },
  {
   "cell_type": "markdown",
   "metadata": {},
   "source": [
    "### QR Decomposition:\n",
    "    The QR decomposition is for n × m matrices (not limited to\n",
    "    square matrices) and decomposes a matrix into Q and R components.\n",
    "    \n",
    "    A = Q . R"
   ]
  },
  {
   "cell_type": "code",
   "execution_count": 5,
   "metadata": {},
   "outputs": [
    {
     "name": "stdout",
     "output_type": "stream",
     "text": [
      "A: \n",
      "[[1 2]\n",
      " [3 4]\n",
      " [5 6]]\n",
      "\n",
      "Q: \n",
      "[[-0.16903085  0.89708523  0.40824829]\n",
      " [-0.50709255  0.27602622 -0.81649658]\n",
      " [-0.84515425 -0.34503278  0.40824829]]\n",
      "\n",
      "R: \n",
      "[[-5.91607978 -7.43735744]\n",
      " [ 0.          0.82807867]\n",
      " [ 0.          0.        ]]\n",
      "\n",
      "B: \n",
      "[[1. 2.]\n",
      " [3. 4.]\n",
      " [5. 6.]]\n"
     ]
    }
   ],
   "source": [
    "from numpy.linalg import qr\n",
    "\n",
    "# define rectangular matrix\n",
    "A = array([[1, 2],\n",
    "           [3, 4],\n",
    "           [5, 6]])\n",
    "print(f\"A: \\n{A}\\n\")\n",
    "\n",
    "Q, R = qr(A, \"complete\")\n",
    "print(f\"Q: \\n{Q}\\n\")\n",
    "print(f\"R: \\n{R}\\n\")\n",
    "\n",
    "# reconstruct\n",
    "B = Q.dot(R)\n",
    "print(f\"B: \\n{B}\")"
   ]
  },
  {
   "cell_type": "markdown",
   "metadata": {},
   "source": [
    "### Cholosky Decomposition:\n",
    "    The Cholesky decomposition is for square symmetric matrices where\n",
    "    all values are greater than zero, so-called positive definite matrices.\n",
    "    For our interests in machine learning, we will focus on the Cholesky\n",
    "    decomposition for real-valued matrices and ignore the cases when working\n",
    "    with complex numbers. The decomposition is defined as follows:\n",
    "    \n",
    "    A = L . L**T"
   ]
  },
  {
   "cell_type": "code",
   "execution_count": 7,
   "metadata": {},
   "outputs": [
    {
     "name": "stdout",
     "output_type": "stream",
     "text": [
      "A: \n",
      "[[2 1 1]\n",
      " [1 2 1]\n",
      " [1 1 2]]\n",
      "\n",
      "L: \n",
      "[[1.41421356 0.         0.        ]\n",
      " [0.70710678 1.22474487 0.        ]\n",
      " [0.70710678 0.40824829 1.15470054]]\n",
      "\n",
      "B: \n",
      "[[2. 1. 1.]\n",
      " [1. 2. 1.]\n",
      " [1. 1. 2.]]\n"
     ]
    }
   ],
   "source": [
    "from numpy.linalg import cholesky\n",
    "\n",
    "# define a symmetrical matrix\n",
    "A = array([[2, 1, 1],\n",
    "           [1, 2, 1],\n",
    "           [1, 1, 2]])\n",
    "print(f\"A: \\n{A}\\n\")\n",
    "\n",
    "# factorize\n",
    "L = cholesky(A)\n",
    "print(f\"L: \\n{L}\\n\")\n",
    "\n",
    "# reconstruct\n",
    "B = L.dot(L.T)\n",
    "print(f\"B: \\n{B}\")"
   ]
  }
 ],
 "metadata": {
  "kernelspec": {
   "display_name": "PyCharm (numpy_and_algebra)",
   "language": "python",
   "name": "pycharm-34aae690"
  },
  "language_info": {
   "codemirror_mode": {
    "name": "ipython",
    "version": 3
   },
   "file_extension": ".py",
   "mimetype": "text/x-python",
   "name": "python",
   "nbconvert_exporter": "python",
   "pygments_lexer": "ipython3",
   "version": "3.8.1"
  }
 },
 "nbformat": 4,
 "nbformat_minor": 4
}
