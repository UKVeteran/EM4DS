{
 "cells": [
  {
   "cell_type": "markdown",
   "metadata": {
    "collapsed": true,
    "pycharm": {
     "is_executing": false
    }
   },
   "source": [
    "## Introduction to Multivariate Statistics\n",
    "### Expected Value and Mean:\n",
    "\n",
    "In probability, the average value of some random variable $X$ is called the expected value or the\n",
    "expectation. The expected value uses the notation E with square brackets around the name of\n",
    "the variable; for example:\n",
    "\n",
    "$$E[X]$$\n",
    "\n",
    "It is calculated as the probability weighted sum of values that can be drawn.\n",
    "\n",
    "$$E[X] =  \\sum x_{1} \\times p_{1},x_{2} \\times p_{2} ... x_{n} \\times p_{n}$$\n",
    "\n",
    "the expected value can be calculated as the sum of all values multiplied by the reciprocal of the number of values.\n",
    "\n",
    "$$E[X] =  \\frac{1}{n} \\times \\sum x_{1},x_{2},x_{3}, ... , x_{n}$$\n",
    "\n",
    "In the abstract, the mean is denoted by the lower case Greek letter mu μ and is calculated from the sample of observations, rather than all possible values.\n",
    "\n",
    "$$\\mu = \\frac{1}{n} \\times \\sum x_{1},x_{2},x_{3}, ... , x_{n}$$\n",
    "\n",
    "or , writen more compactly:\n",
    "\n",
    "$$\\mu = P(x) \\times \\sum x$$\n",
    "\n",
    "Where $x$ is the vector of observations and $P(x)$ is the calculated probability for each value. When calculated for a specific variable, such as $x$, the mean is denoted as a lower case variable name with a line above, called x-bar:\n",
    "\n",
    "$$\\overline{x} =  \\frac{1}{n} \\times  \\sum_{i=1}^n x_{i}$$\n"
   ]
  },
  {
   "cell_type": "code",
   "execution_count": 9,
   "metadata": {
    "pycharm": {
     "is_executing": false,
     "name": "#%%\n"
    }
   },
   "outputs": [
    {
     "name": "stdout",
     "output_type": "stream",
     "text": [
      "v: [1 2 3 4 5 6]\n",
      "\n",
      "result: 3.5\n"
     ]
    }
   ],
   "source": [
    "# vector mean\n",
    "from numpy import array\n",
    "from numpy import mean\n",
    "\n",
    "# defining an array(vector)\n",
    "v = array([1, 2, 3, 4, 5, 6])\n",
    "print(f\"v: {v}\\n\")\n",
    "\n",
    "# calculating mean\n",
    "result = mean(v)\n",
    "print(f\"result: {result}\")"
   ]
  },
  {
   "cell_type": "markdown",
   "metadata": {},
   "source": [
    "The mean function can calculate the row or column means of a matrix by specifying the\n",
    "axis argument and the value 0 or 1 respectively. The example below defines a $2 \\times 6$ matrix and\n",
    "calculates both column and row means."
   ]
  },
  {
   "cell_type": "code",
   "execution_count": 10,
   "metadata": {
    "pycharm": {
     "is_executing": false,
     "name": "#%%\n"
    }
   },
   "outputs": [
    {
     "name": "stdout",
     "output_type": "stream",
     "text": [
      "M: \n",
      "[[1 2 3 4 5 6]\n",
      " [1 2 3 4 5 6]]\n",
      "\n",
      "col_mean: [1. 2. 3. 4. 5. 6.]\n",
      "\n",
      "row_mean: [3.5 3.5]\n"
     ]
    }
   ],
   "source": [
    "# matrix mean\n",
    "from numpy import array\n",
    "from numpy import mean\n",
    "\n",
    "# defining an array(matrix)\n",
    "M = array([\n",
    "    [1, 2, 3, 4, 5, 6],\n",
    "    [1, 2, 3, 4, 5, 6]\n",
    "])\n",
    "print(f\"M: \\n{M}\\n\")\n",
    "\n",
    "# column means\n",
    "col_mean = mean(M, axis=0)\n",
    "print(f\"col_mean: {col_mean}\\n\")\n",
    "\n",
    "# row means\n",
    "row_mean = mean(M, axis=1)\n",
    "print(f\"row_mean: {row_mean}\")"
   ]
  },
  {
   "cell_type": "markdown",
   "metadata": {},
   "source": [
    "### Variance and Standard Deviation:\n",
    "\\begin{gather*}\n",
    "Var[X] \\\\\n",
    "\\newline\n",
    "Var[X] = E[(X - E[X])^2] \\\\\n",
    "\\newline\n",
    "Var[X] = \\sum p(x_{1}) \\times (x_{1} - E[X])^2,p(x_{2}) \\times (x_{2} - E[X])^2, ... , p(x_{n}) \\times (x_{n} - E[X])^2 \\\\\n",
    "\\newline\n",
    "Var[X] =  \\frac{1}{n} \\times \\sum (x_{1} - E[X])^2,(x_{2} - E[X])^2, ..., (x_{n} - E[X])^2 \\\\\n",
    "\\newline\n",
    "\\sigma^2 =  \\frac{1}{n - 1} \\times  \\sum_{i=1}^n (x_{i} - \\mu)^2\n",
    "\\end{gather*}"
   ]
  },
  {
   "cell_type": "code",
   "execution_count": 11,
   "metadata": {
    "pycharm": {
     "is_executing": false,
     "name": "#%%\n"
    }
   },
   "outputs": [
    {
     "name": "stdout",
     "output_type": "stream",
     "text": [
      "v: [1 2 3 4 5 6]\n",
      "\n",
      "result: 3.5\n"
     ]
    }
   ],
   "source": [
    "# vector variance\n",
    "from numpy import array\n",
    "from numpy import var\n",
    "\n",
    "# defining a vector\n",
    "v = array([1, 2, 3, 4, 5, 6])\n",
    "print(f\"v: {v}\\n\")\n",
    "\n",
    "# calculating variance\n",
    "result = var(v, ddof=1)\n",
    "print(f\"result: {result}\")"
   ]
  },
  {
   "cell_type": "code",
   "execution_count": 12,
   "metadata": {
    "pycharm": {
     "is_executing": false,
     "name": "#%%\n"
    }
   },
   "outputs": [
    {
     "name": "stdout",
     "output_type": "stream",
     "text": [
      "M: \n",
      "[[1 2 3 4 5 6]\n",
      " [1 2 3 4 5 6]]\n",
      "\n",
      "col_var: [0. 0. 0. 0. 0. 0.]\n",
      "row_var: [3.5 3.5]\n"
     ]
    }
   ],
   "source": [
    "# matrix variance\n",
    "from numpy import array\n",
    "from numpy import var\n",
    "\n",
    "# defining an array(matrix)\n",
    "M = array([\n",
    "    [1, 2, 3, 4, 5, 6],\n",
    "    [1, 2, 3, 4, 5, 6]\n",
    "])\n",
    "print(f\"M: \\n{M}\\n\")\n",
    "\n",
    "# column variances\n",
    "col_var = var(M, ddof=1, axis=0)\n",
    "print(f\"col_var: {col_var}\")\n",
    "\n",
    "# row variances\n",
    "row_var = var(M, ddof=1, axis=1)\n",
    "print(f\"row_var: {row_var}\")"
   ]
  },
  {
   "cell_type": "markdown",
   "metadata": {},
   "source": [
    "The standard deviation is calculated as the square root of the variance and is denoted as lowercase s:\n",
    "\n",
    "$$s =  \\sqrt{\\sigma^{2}} $$"
   ]
  },
  {
   "cell_type": "code",
   "execution_count": 13,
   "metadata": {
    "pycharm": {
     "is_executing": false,
     "name": "#%%\n"
    }
   },
   "outputs": [
    {
     "name": "stdout",
     "output_type": "stream",
     "text": [
      "M: \n",
      "[[1 2 3 4 5 6]\n",
      " [1 2 3 4 5 6]]\n",
      "\n",
      "col_std: [0. 0. 0. 0. 0. 0.]\n",
      "\n",
      "row_std: [1.87082869 1.87082869]\n",
      "\n"
     ]
    }
   ],
   "source": [
    "# matrix standard deviation\n",
    "from numpy import array\n",
    "from numpy import std\n",
    "\n",
    "# defining an array(matrix)\n",
    "M = array([\n",
    "    [1, 2, 3, 4, 5, 6],\n",
    "    [1, 2, 3, 4, 5, 6]\n",
    "])\n",
    "print(f\"M: \\n{M}\\n\")\n",
    "\n",
    "# column standard deviations\n",
    "col_std = std(M, ddof=1, axis=0)\n",
    "print(f\"col_std: {col_std}\\n\")\n",
    "\n",
    "# row standard deviation\n",
    "row_std = std(M, ddof=1, axis=1)\n",
    "print(f\"row_std: {row_std}\\n\")"
   ]
  },
  {
   "cell_type": "markdown",
   "metadata": {},
   "source": [
    "### Covariance and  Correlation:\n",
    "\n",
    "In probability, covariance is the measure of the joint probability for two random variables. It describes how the two variables change together. It is denoted as the function $cov(X, Y)$, where $X$ and $Y$ are the two random variables being considered:\n",
    "\n",
    "\\begin{gather*}\n",
    "cov(X, Y) = E[(X - E[X]) \\times (Y - E[Y])] \\\\\n",
    "\\newline\n",
    "cov(X, Y) = \\frac{1}{n} \\times \\sum (x - E[X]) \\times (y - E[Y]) \\\\\n",
    "\\newline\n",
    "cov(X, Y) = \\frac{1}{n - 1} \\times \\sum (x - E[X]) \\times (y - E[Y])\n",
    "\\end{gather*}"
   ]
  },
  {
   "cell_type": "code",
   "execution_count": 14,
   "metadata": {
    "pycharm": {
     "is_executing": false,
     "name": "#%%\n"
    }
   },
   "outputs": [
    {
     "name": "stdout",
     "output_type": "stream",
     "text": [
      "x: [1 2 3 4 5 6 7 8 9]\n",
      "\n",
      "y: [1 2 3 4 5 6 7 8 9]\n",
      "\n",
      "Sigma: 7.5\n"
     ]
    }
   ],
   "source": [
    "# vector covariance\n",
    "from numpy import array\n",
    "from numpy import cov\n",
    "\n",
    "# defining first vector\n",
    "x = array([1, 2, 3, 4, 5, 6, 7, 8, 9])\n",
    "print(f\"x: {x}\\n\")\n",
    "\n",
    "# defining second vector\n",
    "y = array([1, 2, 3, 4, 5, 6, 7, 8, 9])\n",
    "print(f\"y: {y}\\n\")\n",
    "\n",
    "# calculating variance\n",
    "Sigma = cov(x, y)[0, 1]\n",
    "print(f\"Sigma: {Sigma}\")"
   ]
  },
  {
   "cell_type": "markdown",
   "metadata": {},
   "source": [
    "The covariance can be normalized to a score between -1 and 1 to make the magnitude interpretable by dividing it by the standard deviation of $X$ and $Y$ . The result is called the correlation of the variables, also called the Pearson correlation coefficient, named for the developer of the method:\n",
    "\n",
    "$$r = \\frac{cov(X, Y)}{s_{X} \\times s_{Y}}$$\n",
    "\n",
    "Where $r$ is the correlation coefficient of $X$ and $Y$ , $cov(X, Y)$ is the sample covariance of $X$\n",
    "and $Y$ and $s_{X}$ and s_{Y} are the standard deviations of $X$ and $Y$ respectively. NumPy provides\n",
    "the corrcoef() function for calculating the correlation between two variables directly. Like\n",
    "cov(), it returns a matrix, in this case a correlation matrix. As with the results from cov() we\n",
    "can access just the correlation of interest from the [0,1] value from the returned squared matrix."
   ]
  },
  {
   "cell_type": "code",
   "execution_count": 15,
   "metadata": {
    "pycharm": {
     "is_executing": false,
     "name": "#%%\n"
    }
   },
   "outputs": [
    {
     "name": "stdout",
     "output_type": "stream",
     "text": [
      "x: [1 2 3 4 5 6 7 8 9]\n",
      "\n",
      "y: [9 8 7 6 5 4 3 2 1]\n",
      "\n",
      "corr: -1.0\n"
     ]
    }
   ],
   "source": [
    "# vector correlation\n",
    "from numpy import array\n",
    "from numpy import corrcoef\n",
    "\n",
    "# defining first vector\n",
    "x = array([1, 2, 3, 4, 5, 6, 7, 8, 9])\n",
    "print(f\"x: {x}\\n\")\n",
    "\n",
    "# defining second vector\n",
    "y = array([9, 8, 7, 6, 5, 4, 3, 2, 1])\n",
    "print(f\"y: {y}\\n\")\n",
    "\n",
    "# calculating correlation\n",
    "corr = corrcoef(x, y)[0, 1]\n",
    "print(f\"corr: {corr}\")\n"
   ]
  },
  {
   "cell_type": "markdown",
   "metadata": {},
   "source": [
    "### Covariance Matrix:\n",
    "\n",
    "The covariance matrix is a square and symmetric matrix that describes the covariance between\n",
    "two or more random variables. The diagonal of the covariance matrix are the variances of each\n",
    "of the random variables, as such it is often called the variance-covariance matrix. A covariance\n",
    "matrix is a generalization of the covariance of two variables and captures the way in which all\n",
    "variables in the dataset may change together. The covariance matrix is denoted as the uppercase\n",
    "Greek letter Sigma, e.g. $\\Sigma$. The covariance for each pair of random variables is calculated as\n",
    "above\n",
    "\n",
    "$$\\Sigma = E[(X - E[X]) \\times (Y - E[Y])]$$\n",
    "\n",
    "Where:\n",
    "\n",
    "$$\\Sigma_{i,j} = cov(X_{i}, X_{j})$$"
   ]
  },
  {
   "cell_type": "code",
   "execution_count": 16,
   "metadata": {
    "pycharm": {
     "is_executing": false,
     "name": "#%%\n"
    }
   },
   "outputs": [
    {
     "name": "stdout",
     "output_type": "stream",
     "text": [
      "X: \n",
      "[[ 1  5  8]\n",
      " [ 3  5 11]\n",
      " [ 2  4  9]\n",
      " [ 3  6 10]\n",
      " [ 1  5 10]]\n",
      "\n",
      "Sigma: \n",
      "[[1.   0.25 0.75]\n",
      " [0.25 0.5  0.25]\n",
      " [0.75 0.25 1.3 ]]\n",
      "\n"
     ]
    }
   ],
   "source": [
    "# covariance matrix\n",
    "from numpy import array\n",
    "from numpy import cov\n",
    "\n",
    "# defining matrix of obzervations\n",
    "X = array([\n",
    "    [1, 5, 8],\n",
    "    [3, 5, 11],\n",
    "    [2, 4, 9],\n",
    "    [3, 6, 10],\n",
    "    [1, 5, 10]\n",
    "])\n",
    "print(f\"X: \\n{X}\\n\")\n",
    "\n",
    "# calculating covariance matrix\n",
    "Sigma = cov(X.T)\n",
    "print(f\"Sigma: \\n{Sigma}\\n\")\n"
   ]
  }
 ],
 "metadata": {
  "kernelspec": {
   "display_name": "Python 3",
   "language": "python",
   "name": "python3"
  },
  "language_info": {
   "codemirror_mode": {
    "name": "ipython",
    "version": 3
   },
   "file_extension": ".py",
   "mimetype": "text/x-python",
   "name": "python",
   "nbconvert_exporter": "python",
   "pygments_lexer": "ipython3",
   "version": "3.8.1"
  },
  "pycharm": {
   "stem_cell": {
    "cell_type": "raw",
    "source": [],
    "metadata": {
     "collapsed": false
    }
   }
  }
 },
 "nbformat": 4,
 "nbformat_minor": 1
}