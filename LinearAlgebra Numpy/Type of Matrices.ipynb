{
 "cells": [
  {
   "cell_type": "markdown",
   "metadata": {},
   "source": [
    "## Type of Matrices\n",
    "### Triangular Matrix:"
   ]
  },
  {
   "cell_type": "code",
   "execution_count": 3,
   "metadata": {},
   "outputs": [
    {
     "name": "stdout",
     "output_type": "stream",
     "text": [
      "M: \n",
      "[[1 2 3]\n",
      " [1 2 3]\n",
      " [1 2 3]]\n",
      "\n",
      "lower: \n",
      "[[1 0 0]\n",
      " [1 2 0]\n",
      " [1 2 3]]\n",
      "\n",
      "upper: \n",
      "[[1 2 3]\n",
      " [0 2 3]\n",
      " [0 0 3]]\n"
     ]
    }
   ],
   "source": [
    "from numpy import array\n",
    "from numpy import tril\n",
    "from numpy import triu\n",
    "\n",
    "M = array([[1, 2, 3],\n",
    "          [1, 2, 3],\n",
    "          [1, 2, 3]])\n",
    "print(f\"M: \\n{M}\\n\")\n",
    "\n",
    "lower = tril(M)\n",
    "print(f\"lower: \\n{lower}\\n\")\n",
    "\n",
    "upper = triu(M)\n",
    "print(f\"upper: \\n{upper}\")"
   ]
  },
  {
   "cell_type": "markdown",
   "metadata": {},
   "source": [
    "### Diagonal Matrix:"
   ]
  },
  {
   "cell_type": "code",
   "execution_count": 7,
   "metadata": {},
   "outputs": [
    {
     "name": "stdout",
     "output_type": "stream",
     "text": [
      "diag(M): [1 2 3]\n",
      "\n",
      "Diagonal Matrix: \n",
      "[[1 0 0]\n",
      " [0 2 0]\n",
      " [0 0 3]]\n"
     ]
    }
   ],
   "source": [
    "from numpy import diag\n",
    "\n",
    "d = diag(M)\n",
    "print(f\"diag(M): {d}\\n\")\n",
    "\n",
    "D = diag(d)\n",
    "print(f\"Diagonal Matrix: \\n{D}\")"
   ]
  },
  {
   "cell_type": "markdown",
   "metadata": {},
   "source": [
    "### Identity Matrix:"
   ]
  },
  {
   "cell_type": "code",
   "execution_count": 11,
   "metadata": {},
   "outputs": [
    {
     "name": "stdout",
     "output_type": "stream",
     "text": [
      "I: \n",
      "[[1. 0. 0.]\n",
      " [0. 1. 0.]\n",
      " [0. 0. 1.]]\n"
     ]
    }
   ],
   "source": [
    "from numpy import identity\n",
    "\n",
    "I = identity(3)\n",
    "print(f\"I: \\n{I}\")"
   ]
  },
  {
   "cell_type": "markdown",
   "metadata": {},
   "source": [
    "### Orthogonal Matrix:"
   ]
  },
  {
   "cell_type": "code",
   "execution_count": 13,
   "metadata": {},
   "outputs": [
    {
     "name": "stdout",
     "output_type": "stream",
     "text": [
      "Q: \n",
      "[[ 1  0]\n",
      " [ 0 -1]]\n",
      "\n",
      "Q.T: \n",
      "[[ 1  0]\n",
      " [ 0 -1]]\n",
      "\n",
      "V: \n",
      "[[ 1.  0.]\n",
      " [-0. -1.]]\n",
      "\n",
      "I: \n",
      "[[1 0]\n",
      " [0 1]]\n"
     ]
    }
   ],
   "source": [
    "from numpy.linalg import inv\n",
    "\n",
    "Q = array([[1, 0],\n",
    "           [0, -1]])\n",
    "print(f\"Q: \\n{Q}\\n\")\n",
    "\n",
    "# inverse equivalence\n",
    "V = inv(Q)\n",
    "print(f\"Q.T: \\n{Q.T}\\n\")\n",
    "print(f\"V: \\n{V}\\n\")\n",
    "\n",
    "# identity equivalence\n",
    "I = Q.dot(Q.T)\n",
    "print(f\"I: \\n{I}\")"
   ]
  }
 ],
 "metadata": {
  "kernelspec": {
   "display_name": "PyCharm (ML-Deep-Practices)",
   "language": "python",
   "name": "pycharm-f0b42db8"
  },
  "language_info": {
   "codemirror_mode": {
    "name": "ipython",
    "version": 3
   },
   "file_extension": ".py",
   "mimetype": "text/x-python",
   "name": "python",
   "nbconvert_exporter": "python",
   "pygments_lexer": "ipython3",
   "version": "3.7.5"
  }
 },
 "nbformat": 4,
 "nbformat_minor": 2
}
