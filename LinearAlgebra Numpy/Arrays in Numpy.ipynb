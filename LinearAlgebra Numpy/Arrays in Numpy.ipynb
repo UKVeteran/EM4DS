{
 "cells": [
  {
   "cell_type": "markdown",
   "metadata": {
    "collapsed": true,
    "pycharm": {
     "is_executing": false,
     "name": "#%% md\n"
    }
   },
   "source": [
    "## Index, Slice and Reshape Numpy Arrays\n",
    "### From List to Arrays\n",
    "### One dimensional list to array:"
   ]
  },
  {
   "cell_type": "code",
   "execution_count": 210,
   "outputs": [
    {
     "name": "stdout",
     "text": [
      "data: [11 22 33 44 55 66]\n",
      "\n",
      "type of data: <class 'numpy.ndarray'>\n"
     ],
     "output_type": "stream"
    }
   ],
   "source": [
    "import numpy as np\n",
    "\n",
    "data = [11, 22, 33, 44, 55, 66]\n",
    "data = np.array(data)\n",
    "\n",
    "print(f\"data: {data}\\n\")\n",
    "print(f\"type of data: {type(data)}\")"
   ],
   "metadata": {
    "collapsed": false,
    "pycharm": {
     "name": "#%%\n",
     "is_executing": false
    }
   }
  },
  {
   "cell_type": "markdown",
   "source": [
    "### Two dimensional list of lists to array:"
   ],
   "metadata": {
    "collapsed": false,
    "pycharm": {
     "name": "#%% md\n",
     "is_executing": false
    }
   }
  },
  {
   "cell_type": "code",
   "execution_count": 211,
   "outputs": [
    {
     "name": "stdout",
     "text": [
      "data1: \n",
      "[[11 22]\n",
      " [33 44]\n",
      " [55 66]]\n",
      "\n",
      "type of data1: <class 'numpy.ndarray'>\n"
     ],
     "output_type": "stream"
    }
   ],
   "source": [
    "data1 = [[11, 22],\n",
    "         [33, 44],\n",
    "         [55, 66]]\n",
    "data1 = np.array(data1)\n",
    "\n",
    "print(f\"data1: \\n{data1}\\n\")\n",
    "print(f\"type of data1: {type(data1)}\")"
   ],
   "metadata": {
    "collapsed": false,
    "pycharm": {
     "name": "#%%\n",
     "is_executing": false
    }
   }
  },
  {
   "cell_type": "markdown",
   "source": [
    "## Array Indexing\n",
    "### One dimensional indexing:"
   ],
   "metadata": {
    "collapsed": false,
    "pycharm": {
     "name": "#%% md\n"
    }
   }
  },
  {
   "cell_type": "code",
   "execution_count": 212,
   "outputs": [
    {
     "name": "stdout",
     "text": [
      "data[0]: 11\n",
      "data[3]: 44\n",
      "data[-1]: 66\n",
      "data[-3]: 44\n"
     ],
     "output_type": "stream"
    }
   ],
   "source": [
    "print(f\"data[0]: {data[0]}\")\n",
    "print(f\"data[3]: {data[3]}\")\n",
    "\n",
    "print(f\"data[-1]: {data[-1]}\")\n",
    "print(f\"data[-3]: {data[-3]}\")"
   ],
   "metadata": {
    "collapsed": false,
    "pycharm": {
     "name": "#%%\n",
     "is_executing": false
    }
   }
  },
  {
   "cell_type": "markdown",
   "source": [
    "### Two dimensional indexing:"
   ],
   "metadata": {
    "collapsed": false,
    "pycharm": {
     "name": "#%% md\n",
     "is_executing": false
    }
   }
  },
  {
   "cell_type": "code",
   "execution_count": 213,
   "outputs": [
    {
     "name": "stdout",
     "text": [
      "data1[0, 0]: 11\n"
     ],
     "output_type": "stream"
    }
   ],
   "source": [
    "print(f\"data1[0, 0]: {data1[0, 0]}\")"
   ],
   "metadata": {
    "collapsed": false,
    "pycharm": {
     "name": "#%%\n",
     "is_executing": false
    }
   }
  },
  {
   "cell_type": "markdown",
   "source": [
    "**All items in the first row:**"
   ],
   "metadata": {
    "collapsed": false,
    "pycharm": {
     "name": "#%% md\n"
    }
   }
  },
  {
   "cell_type": "code",
   "execution_count": 214,
   "outputs": [
    {
     "name": "stdout",
     "text": [
      "data1[0,]: [11 22]\n"
     ],
     "output_type": "stream"
    }
   ],
   "source": [
    "print(f\"data1[0,]: {data1[0, ]}\")"
   ],
   "metadata": {
    "collapsed": false,
    "pycharm": {
     "name": "#%%\n",
     "is_executing": false
    }
   }
  },
  {
   "cell_type": "markdown",
   "source": [
    "## Array Slicing\n",
    "\n",
    "**The slice extends from the index and ends one item before the to index:**\n",
    "\n",
    "**data[from:to -1]**\n",
    "### One dimensional slicing:\n",
    "access all data in an array dimension by specifying the slice\n",
    "‘:’ with no indexes:"
   ],
   "metadata": {
    "collapsed": false,
    "pycharm": {
     "name": "#%% md\n",
     "is_executing": false
    }
   }
  },
  {
   "cell_type": "code",
   "execution_count": 215,
   "outputs": [
    {
     "name": "stdout",
     "text": [
      "data[:]: [11 22 33 44 55 66]\n"
     ],
     "output_type": "stream"
    }
   ],
   "source": [
    "print(f\"data[:]: {data[:]}\")"
   ],
   "metadata": {
    "collapsed": false,
    "pycharm": {
     "name": "#%%\n",
     "is_executing": false
    }
   }
  },
  {
   "cell_type": "markdown",
   "source": [
    "The first item of the array can be sliced by specifying a slice that\n",
    "starts at index 0 and ends at index 1 (one item before the to index):"
   ],
   "metadata": {
    "collapsed": false,
    "pycharm": {
     "name": "#%% md\n"
    }
   }
  },
  {
   "cell_type": "code",
   "execution_count": 216,
   "outputs": [
    {
     "name": "stdout",
     "text": [
      "data[0, 1]: [11]\n"
     ],
     "output_type": "stream"
    }
   ],
   "source": [
    "print(f\"data[0, 1]: {data[0: 1]}\")"
   ],
   "metadata": {
    "collapsed": false,
    "pycharm": {
     "name": "#%%\n",
     "is_executing": false
    }
   }
  },
  {
   "cell_type": "markdown",
   "source": [
    "### Split input and output features:\n",
    "It is common to split your loaded data into input variables (X) and the \n",
    "output variable (y). We can do this by slicing all rows and all columns\n",
    "up to, but before the last column, then separately indexing the last\n",
    "column. For the input features, we can select all rows and all columns\n",
    "except the last one by specifying : for in the rows index, and :-1 in \n",
    "the columns index.\n",
    "\n",
    "X = [:, :-1]\n",
    "\n",
    "For the output column, we can select all rows again using : and index just\n",
    "the last column by specifying the -1 index.\n",
    "\n",
    "y = [:, -1]"
   ],
   "metadata": {
    "collapsed": false,
    "pycharm": {
     "name": "#%% md\n",
     "is_executing": false
    }
   }
  },
  {
   "cell_type": "code",
   "execution_count": 217,
   "outputs": [
    {
     "name": "stdout",
     "text": [
      "X:\n",
      "[[11 22]\n",
      " [44 55]\n",
      " [77 88]]\n",
      "\n",
      "y:\n",
      "[33 66 99]\n"
     ],
     "output_type": "stream"
    }
   ],
   "source": [
    "data2 = np.array([[11, 22, 33],\n",
    "                  [44, 55, 66],\n",
    "                  [77, 88, 99]])\n",
    "\n",
    "X, y = data2[:, :-1], data2[:, -1]\n",
    "\n",
    "print(f\"X:\\n{X}\\n\")\n",
    "\n",
    "print(f\"y:\\n{y}\")"
   ],
   "metadata": {
    "collapsed": false,
    "pycharm": {
     "name": "#%%\n",
     "is_executing": false
    }
   }
  },
  {
   "cell_type": "markdown",
   "source": [
    "### Split train and test rows:\n",
    "It is common to split a loaded dataset into separate train and test sets. \n",
    "This is a splitting of rows where some portion will be used to train the\n",
    "model and the remaining portion will be used to estimate the skill of the\n",
    "trained model. This would involve slicing all columns by specifying : in\n",
    "the second dimension index. The training dataset would be all rows from\n",
    "the beginning to the split point.\n",
    "\n",
    "train = data[:split, :]\n",
    "\n",
    "The test dataset would be all rows starting from the split point to \n",
    "the end of the dimension.\n",
    "\n",
    "test[split:, :]\n",
    "\n",
    "Putting all of this together, we can split the dataset at the contrived \n",
    "split point of 2."
   ],
   "metadata": {
    "collapsed": false,
    "pycharm": {
     "name": "#%% md\n",
     "is_executing": false
    }
   }
  },
  {
   "cell_type": "code",
   "execution_count": 218,
   "outputs": [
    {
     "name": "stdout",
     "text": [
      "train: \n",
      "[[11 22 33]\n",
      " [44 55 66]]\n",
      "\n",
      "test: \n",
      "[[77 88 99]]\n"
     ],
     "output_type": "stream"
    }
   ],
   "source": [
    "split = 2\n",
    "train , test = data2[:split, :], data2[split:, :]\n",
    "\n",
    "print(f\"train: \\n{train}\\n\")\n",
    "print(f\"test: \\n{test}\")"
   ],
   "metadata": {
    "collapsed": false,
    "pycharm": {
     "name": "#%%\n",
     "is_executing": false
    }
   }
  },
  {
   "cell_type": "markdown",
   "source": [
    "## Array reshaping\n",
    "### Data Shape:"
   ],
   "metadata": {
    "collapsed": false,
    "pycharm": {
     "name": "#%% md\n",
     "is_executing": false
    }
   }
  },
  {
   "cell_type": "code",
   "execution_count": 219,
   "outputs": [
    {
     "name": "stdout",
     "text": [
      "shape of data: (6,)\n",
      "shape of data2: (3, 3)\n",
      "Rows: 3\n",
      "Columns: 3\n"
     ],
     "output_type": "stream"
    }
   ],
   "source": [
    "print(f\"shape of data: {data.shape}\")\n",
    "\n",
    "\n",
    "print(f\"shape of data2: {data2.shape}\")\n",
    "\n",
    "print(f\"Rows: {data2.shape[0]}\")\n",
    "\n",
    "print(f\"Columns: {data2.shape[1]}\")"
   ],
   "metadata": {
    "collapsed": false,
    "pycharm": {
     "name": "#%%\n",
     "is_executing": false
    }
   }
  },
  {
   "cell_type": "markdown",
   "source": [
    "### Reshape 1D to 2D Array:"
   ],
   "metadata": {
    "collapsed": false,
    "pycharm": {
     "name": "#%% md\n",
     "is_executing": false
    }
   }
  },
  {
   "cell_type": "code",
   "execution_count": 220,
   "outputs": [
    {
     "name": "stdout",
     "text": [
      "data_2d: \n",
      "[[11]\n",
      " [22]\n",
      " [33]\n",
      " [44]\n",
      " [55]\n",
      " [66]]\n",
      "\n",
      "shape of data_2: (6, 1)\n"
     ],
     "output_type": "stream"
    }
   ],
   "source": [
    "data_2d = data.reshape((data.shape[0], 1))\n",
    "print(f\"data_2d: \\n{data_2d}\\n\")\n",
    "print(f\"shape of data_2: {data_2d.shape}\")"
   ],
   "metadata": {
    "collapsed": false,
    "pycharm": {
     "name": "#%%\n",
     "is_executing": false
    }
   }
  },
  {
   "cell_type": "markdown",
   "source": [
    "### Reshape 2D to 3D Array:"
   ],
   "metadata": {
    "collapsed": false,
    "pycharm": {
     "name": "#%% md\n",
     "is_executing": false
    }
   }
  },
  {
   "cell_type": "code",
   "execution_count": 221,
   "outputs": [
    {
     "name": "stdout",
     "text": [
      "data_3d: \n",
      "[[[11]\n",
      "  [22]\n",
      "  [33]]\n",
      "\n",
      " [[44]\n",
      "  [55]\n",
      "  [66]]\n",
      "\n",
      " [[77]\n",
      "  [88]\n",
      "  [99]]]\n",
      "\n",
      "shape of data_3d: (3, 3, 1)\n"
     ],
     "output_type": "stream"
    }
   ],
   "source": [
    "data_3d = data2.reshape(data2.shape[0], data2.shape[1], 1)\n",
    "print(f\"data_3d: \\n{data_3d}\\n\")\n",
    "print(f\"shape of data_3d: {data_3d.shape}\")\n"
   ],
   "metadata": {
    "collapsed": false,
    "pycharm": {
     "name": "#%%\n",
     "is_executing": false
    }
   }
  }
 ],
 "metadata": {
  "kernelspec": {
   "name": "pycharm-f0b42db8",
   "language": "python",
   "display_name": "PyCharm (ML-Deep-Practices)"
  },
  "language_info": {
   "codemirror_mode": {
    "name": "ipython",
    "version": 2
   },
   "file_extension": ".py",
   "mimetype": "text/x-python",
   "name": "python",
   "nbconvert_exporter": "python",
   "pygments_lexer": "ipython2",
   "version": "2.7.6"
  },
  "pycharm": {
   "stem_cell": {
    "cell_type": "raw",
    "source": [],
    "metadata": {
     "collapsed": false
    }
   }
  }
 },
 "nbformat": 4,
 "nbformat_minor": 0
}