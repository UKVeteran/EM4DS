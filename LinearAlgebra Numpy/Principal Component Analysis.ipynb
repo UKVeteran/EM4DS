{
 "cells": [
  {
   "cell_type": "markdown",
   "metadata": {
    "collapsed": true,
    "pycharm": {
     "is_executing": false,
     "name": "#%% md\n"
    }
   },
   "source": [
    "## Principal Component Analysis\n",
    "### What Is Principal Component Analysis?\n",
    "\n",
    "Principal Component Analysis, or PCA for short, is a method for reducing the dimensionality\n",
    "of data. It can be thought of as a projection method where data with m-columns (features) is\n",
    "projected into a subspace with m or fewer columns, whilst retaining the essence of the original\n",
    "data.\n",
    "\n",
    "\\begin{equation*}\n",
    "A = \n",
    "\\begin{pmatrix}\n",
    "a_{1,1} & a_{1,2} \\\\\n",
    "a_{2,1} & a_{2,2} \\\\\n",
    "a_{3,1} & a_{3,2}\n",
    "\\end{pmatrix}\n",
    "\\end{equation*}\n",
    "\n",
    "So\n",
    "\n",
    "$$B = PCA(A)$$\n",
    "\n",
    "The first step is to calculate the mean values of each column.\n",
    "\n",
    "$$M = mean(A)$$\n",
    "\n",
    "Next, we need to center the values in each column by subtracting the mean column value.\n",
    "\n",
    "$$C = A - M$$\n",
    "\n",
    "The next step is to calculate the covariance matrix of the centered matrix C.\n",
    "\n",
    "$$V = cov(C)$$\n",
    "\n",
    "Finally, we calculate the eigendecomposition of the covariance matrix V . This results in a\n",
    "list of eigenvalues and a list of eigenvectors.\n",
    "\n",
    "$$values, vectors = eig(V)$$\n",
    "\n",
    "we would select k eigenvectors, called principal components, that have the k\n",
    "largest eigenvalues.\n",
    "\n",
    "$$B = select(values, vectors)$$\n",
    "\n",
    "Other matrix decomposition methods can be used such as Singular-Value Decomposition,\n",
    "or SVD. As such, generally the values are referred to as singular values and the vectors of the\n",
    "subspace are referred to as principal components. Once chosen, data can be projected into the\n",
    "subspace via matrix multiplication.\n",
    "\n",
    "$$P = B^{T} . A$$\n",
    "\n",
    "\n",
    "### Calculating Principal Component Analysis:\n",
    "There is no pca() function in NumPy, but we can easily calculate the Principal Component\n",
    "Analysis step-by-step using NumPy functions:"
   ]
  },
  {
   "cell_type": "code",
   "execution_count": 2,
   "outputs": [
    {
     "name": "stdout",
     "text": [
      "A: \n",
      "[[1 2]\n",
      " [3 4]\n",
      " [5 6]]\n",
      "\n",
      "vectors: \n",
      "[[ 0.70710678 -0.70710678]\n",
      " [ 0.70710678  0.70710678]]\n",
      "\n",
      "values: [8. 0.]\n",
      "\n",
      "P.T: \n",
      "[[-2.82842712  0.        ]\n",
      " [ 0.          0.        ]\n",
      " [ 2.82842712  0.        ]]\n"
     ],
     "output_type": "stream"
    }
   ],
   "source": [
    "# Principal component analysis\n",
    "\n",
    "from numpy import array\n",
    "from numpy import mean\n",
    "from numpy import cov\n",
    "from numpy.linalg import eig\n",
    "\n",
    "# defining an array\n",
    "A = array([\n",
    "    [1, 2],\n",
    "    [3, 4],\n",
    "    [5, 6]\n",
    "])\n",
    "print(f\"A: \\n{A}\\n\")\n",
    "\n",
    "# column means\n",
    "M = mean(A.T, axis=1)\n",
    "\n",
    "# center columns by subtracting column means\n",
    "C = A - M\n",
    "\n",
    "# calculating variance matrix of centered matrix\n",
    "V = cov(C.T)\n",
    "\n",
    "# factorizing covariance matrix\n",
    "values, vectors = eig(V)\n",
    "\n",
    "print(f\"vectors: \\n{vectors}\\n\")\n",
    "print(f\"values: {values}\\n\")\n",
    "\n",
    "# projecting data\n",
    "P = vectors.T.dot(C.T)\n",
    "print(f\"P.T: \\n{P.T}\")"
   ],
   "metadata": {
    "collapsed": false,
    "pycharm": {
     "name": "#%%\n",
     "is_executing": false
    }
   }
  },
  {
   "cell_type": "markdown",
   "source": [
    "### Principal Component Analysis In Scikit-Learn:\n",
    "\n",
    "We can calculate a Principal Component Analysis on a dataset using the PCA() class in the\n",
    "scikit-learn library. The benefit of this approach is that once the projection is calculated, it can\n",
    "be applied to new data again and again quite easily. When creating the class, the number of\n",
    "components can be specified as a parameter. The class is first fit on a dataset by calling the fit()\n",
    "function, and then the original dataset or other data can be projected into a subspace with the\n",
    "chosen number of dimensions by calling the transform() function. Once fit, the singular values\n",
    "and principal components can be accessed on the PCA class via the explained variance and\n",
    "components attributes:"
   ],
   "metadata": {
    "collapsed": false
   }
  },
  {
   "cell_type": "code",
   "execution_count": 6,
   "outputs": [
    {
     "name": "stdout",
     "text": [
      "A: \n",
      "[[1 2]\n",
      " [3 4]\n",
      " [5 6]]\n",
      "\n",
      "pca.components_: \n",
      "[[ 0.70710678  0.70710678]\n",
      " [-0.70710678  0.70710678]]\n",
      "\n",
      "pca.explained_variance_: [8. 0.]\n",
      "\n",
      "B: \n",
      "[[-2.82842712e+00 -2.22044605e-16]\n",
      " [ 0.00000000e+00  0.00000000e+00]\n",
      " [ 2.82842712e+00  2.22044605e-16]]\n"
     ],
     "output_type": "stream"
    }
   ],
   "source": [
    "# PCA using scikit-learn\n",
    "\n",
    "from numpy import array\n",
    "from sklearn.decomposition import PCA\n",
    "\n",
    "# defining an array\n",
    "A = array([\n",
    "    [1, 2],\n",
    "    [3, 4],\n",
    "    [5, 6]\n",
    "])\n",
    "print(f\"A: \\n{A}\\n\")\n",
    "\n",
    "# creating the transform\n",
    "pca = PCA(2)\n",
    "\n",
    "# fitting transform\n",
    "pca.fit(A)\n",
    "\n",
    "# accessing values and vectors\n",
    "print(f\"pca.components_: \\n{pca.components_}\\n\")\n",
    "print(f\"pca.explained_variance_: {pca.explained_variance_}\\n\")\n",
    "\n",
    "# transforming data\n",
    "B = pca.transform(A)\n",
    "print(f\"B: \\n{B}\")\n"
   ],
   "metadata": {
    "collapsed": false,
    "pycharm": {
     "name": "#%%\n",
     "is_executing": false
    }
   }
  }
 ],
 "metadata": {
  "kernelspec": {
   "display_name": "PyCharm (numpy_and_algebra)",
   "language": "python",
   "name": "pycharm-34aae690"
  },
  "language_info": {
   "codemirror_mode": {
    "name": "ipython",
    "version": 3
   },
   "file_extension": ".py",
   "mimetype": "text/x-python",
   "name": "python",
   "nbconvert_exporter": "python",
   "pygments_lexer": "ipython3",
   "version": "3.8.1"
  },
  "pycharm": {
   "stem_cell": {
    "cell_type": "raw",
    "source": [],
    "metadata": {
     "collapsed": false
    }
   }
  }
 },
 "nbformat": 4,
 "nbformat_minor": 1
}