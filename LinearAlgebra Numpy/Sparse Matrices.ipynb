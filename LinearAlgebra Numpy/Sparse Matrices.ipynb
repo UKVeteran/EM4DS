{
 "cells": [
  {
   "cell_type": "markdown",
   "metadata": {},
   "source": [
    "## Sparse Matrices\n",
    "### Sparse Matrices in Python:"
   ]
  },
  {
   "cell_type": "code",
   "execution_count": 2,
   "metadata": {},
   "outputs": [
    {
     "name": "stdout",
     "output_type": "stream",
     "text": [
      "A: \n",
      "[[1 0 0 1 0 0]\n",
      " [0 0 2 0 0 1]\n",
      " [0 0 0 2 0 0]]\n",
      "\n",
      "S: \n",
      "  (0, 0)\t1\n",
      "  (0, 3)\t1\n",
      "  (1, 2)\t2\n",
      "  (1, 5)\t1\n",
      "  (2, 3)\t2\n",
      "\n",
      "B: \n",
      "[[1 0 0 1 0 0]\n",
      " [0 0 2 0 0 1]\n",
      " [0 0 0 2 0 0]]\n"
     ]
    }
   ],
   "source": [
    "from numpy import array\n",
    "from scipy.sparse import csr_matrix\n",
    "\n",
    "A = array([[1, 0, 0, 1, 0, 0],\n",
    "           [0, 0, 2, 0, 0, 1],\n",
    "           [0, 0, 0, 2, 0, 0]])\n",
    "print(f\"A: \\n{A}\\n\")\n",
    "\n",
    "# convert to sparse matrix\n",
    "S = csr_matrix(A)\n",
    "print(f\"S: \\n{S}\\n\")\n",
    "\n",
    "# reconstruct dense matrix\n",
    "B = S.todense()\n",
    "print(f\"B: \\n{B}\")"
   ]
  },
  {
   "cell_type": "markdown",
   "metadata": {},
   "source": [
    "### Sparsity:"
   ]
  },
  {
   "cell_type": "code",
   "execution_count": 3,
   "metadata": {},
   "outputs": [
    {
     "name": "stdout",
     "output_type": "stream",
     "text": [
      "Sparsity: 0.7222222222222222\n"
     ]
    }
   ],
   "source": [
    "from numpy import count_nonzero\n",
    "\n",
    "sparsity = 1.0 - count_nonzero(A) / A.size\n",
    "print(f\"Sparsity: {sparsity}\")"
   ]
  }
 ],
 "metadata": {
  "kernelspec": {
   "display_name": "PyCharm (ML-Deep-Practices)",
   "language": "python",
   "name": "pycharm-f0b42db8"
  },
  "language_info": {
   "codemirror_mode": {
    "name": "ipython",
    "version": 3
   },
   "file_extension": ".py",
   "mimetype": "text/x-python",
   "name": "python",
   "nbconvert_exporter": "python",
   "pygments_lexer": "ipython3",
   "version": "3.7.5"
  }
 },
 "nbformat": 4,
 "nbformat_minor": 2
}
