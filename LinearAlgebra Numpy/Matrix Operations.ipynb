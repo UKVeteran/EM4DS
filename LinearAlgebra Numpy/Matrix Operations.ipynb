{
 "cells": [
  {
   "cell_type": "markdown",
   "metadata": {},
   "source": [
    "## Matrix Operations\n",
    "### Transpose:"
   ]
  },
  {
   "cell_type": "code",
   "execution_count": 4,
   "metadata": {},
   "outputs": [
    {
     "name": "stdout",
     "output_type": "stream",
     "text": [
      "A: \n",
      "[[1 2]\n",
      " [3 4]\n",
      " [5 6]]\n",
      "\n",
      "C: \n",
      "[[1 3 5]\n",
      " [2 4 6]]\n"
     ]
    }
   ],
   "source": [
    "from numpy import array\n",
    "\n",
    "A = array([[1, 2],\n",
    "           [3, 4],\n",
    "           [5, 6]])\n",
    "print(f\"A: \\n{A}\\n\")\n",
    "\n",
    "C = A.T\n",
    "print(f\"C: \\n{C}\")"
   ]
  },
  {
   "cell_type": "markdown",
   "metadata": {},
   "source": [
    "### Inverse:"
   ]
  },
  {
   "cell_type": "code",
   "execution_count": 8,
   "metadata": {
    "scrolled": true
   },
   "outputs": [
    {
     "name": "stdout",
     "output_type": "stream",
     "text": [
      "A: \n",
      "[[1. 2.]\n",
      " [3. 4.]]\n",
      "\n",
      "B: \n",
      "[[-2.   1. ]\n",
      " [ 1.5 -0.5]]\n",
      "\n",
      "I: \n",
      "[[1.00000000e+00 1.11022302e-16]\n",
      " [0.00000000e+00 1.00000000e+00]]\n"
     ]
    }
   ],
   "source": [
    "from numpy.linalg import inv\n",
    "\n",
    "A = array([[1.0, 2.0],\n",
    "           [3.0, 4.0]])\n",
    "print(f\"A: \\n{A}\\n\")\n",
    "\n",
    "B = inv(A)\n",
    "print(f\"B: \\n{B}\\n\")\n",
    "\n",
    "I = A.dot(B)\n",
    "print(f\"I: \\n{I}\")"
   ]
  },
  {
   "cell_type": "markdown",
   "metadata": {},
   "source": [
    "### Trace:"
   ]
  },
  {
   "cell_type": "code",
   "execution_count": 10,
   "metadata": {
    "scrolled": true
   },
   "outputs": [
    {
     "name": "stdout",
     "output_type": "stream",
     "text": [
      "A: \n",
      "[[1 2 3]\n",
      " [4 5 6]\n",
      " [7 8 9]]\n",
      "\n",
      "B: 15\n"
     ]
    }
   ],
   "source": [
    "from numpy import trace\n",
    "\n",
    "A = array([[1, 2, 3],\n",
    "           [4, 5, 6],\n",
    "           [7, 8, 9]])\n",
    "print(f\"A: \\n{A}\\n\")\n",
    "\n",
    "B = trace(A)\n",
    "print(f\"B: {B}\")"
   ]
  },
  {
   "cell_type": "markdown",
   "metadata": {},
   "source": [
    "### Determinant:"
   ]
  },
  {
   "cell_type": "code",
   "execution_count": 11,
   "metadata": {},
   "outputs": [
    {
     "name": "stdout",
     "output_type": "stream",
     "text": [
      "determinant: -9.51619735392994e-16\n"
     ]
    }
   ],
   "source": [
    "from numpy.linalg import det\n",
    "\n",
    "B = det(A)\n",
    "print(f\"determinant: {B}\")"
   ]
  },
  {
   "cell_type": "markdown",
   "metadata": {},
   "source": [
    "## Rank\n",
    "### Vector Rank:"
   ]
  },
  {
   "cell_type": "code",
   "execution_count": 14,
   "metadata": {},
   "outputs": [
    {
     "name": "stdout",
     "output_type": "stream",
     "text": [
      "v1: [1 2 3]\n",
      "\n",
      "rank of v1: 1\n",
      "\n",
      "v2: [0 0 0 0 0]\n",
      "\n",
      "rank of v2: 0\n"
     ]
    }
   ],
   "source": [
    "from numpy.linalg import matrix_rank\n",
    "\n",
    "v1 = array([1, 2, 3])\n",
    "print(f\"v1: {v1}\\n\")\n",
    "\n",
    "v1r = matrix_rank(v1)\n",
    "print(f\"rank of v1: {v1r}\\n\")\n",
    "\n",
    "v2 = array([0, 0, 0, 0, 0])\n",
    "print(f\"v2: {v2}\\n\")\n",
    "\n",
    "v2r = matrix_rank(v2)\n",
    "print(f\"rank of v2: {v2r}\")"
   ]
  },
  {
   "cell_type": "markdown",
   "metadata": {},
   "source": [
    "### Matrix Rank:\n",
    "**Rank 0:**"
   ]
  },
  {
   "cell_type": "code",
   "execution_count": 21,
   "metadata": {},
   "outputs": [
    {
     "name": "stdout",
     "output_type": "stream",
     "text": [
      "M0: \n",
      "[[0 0]\n",
      " [0 0]]\n",
      "\n",
      "rank of M0: 0\n",
      "\n"
     ]
    }
   ],
   "source": [
    "# rank 0\n",
    "M0 = array([[0, 0],\n",
    "            [0, 0]])\n",
    "print(f\"M0: \\n{M0}\\n\")\n",
    "\n",
    "m0r = matrix_rank(M0)\n",
    "print(f\"rank of M0: {m0r}\\n\")"
   ]
  },
  {
   "cell_type": "markdown",
   "metadata": {},
   "source": [
    "**Rank 1:**"
   ]
  },
  {
   "cell_type": "code",
   "execution_count": 23,
   "metadata": {},
   "outputs": [
    {
     "name": "stdout",
     "output_type": "stream",
     "text": [
      "M1: [[1 2]\n",
      " [1 2]]\n",
      "\n",
      "rank of M1: 1\n",
      "\n"
     ]
    }
   ],
   "source": [
    "# rank 1\n",
    "M1 = array([[1, 2],\n",
    "            [1, 2]])\n",
    "print(f\"M1: {M1}\\n\")\n",
    "\n",
    "m1r = matrix_rank(M1)\n",
    "print(f\"rank of M1: {m1r}\\n\")"
   ]
  },
  {
   "cell_type": "markdown",
   "metadata": {},
   "source": [
    "**Rank 2:**"
   ]
  },
  {
   "cell_type": "code",
   "execution_count": 26,
   "metadata": {},
   "outputs": [
    {
     "name": "stdout",
     "output_type": "stream",
     "text": [
      "M2: \n",
      "[[1 2]\n",
      " [3 4]]\n",
      "\n",
      "rank of M2: 2\n"
     ]
    }
   ],
   "source": [
    "# rank 2\n",
    "M2 = array([[1, 2],\n",
    "            [3, 4]])\n",
    "print(f\"M2: \\n{M2}\\n\")\n",
    "\n",
    "m2r = matrix_rank(M2)\n",
    "print(f\"rank of M2: {m2r}\")"
   ]
  }
 ],
 "metadata": {
  "kernelspec": {
   "display_name": "PyCharm (ML-Deep-Practices)",
   "language": "python",
   "name": "pycharm-f0b42db8"
  },
  "language_info": {
   "codemirror_mode": {
    "name": "ipython",
    "version": 3
   },
   "file_extension": ".py",
   "mimetype": "text/x-python",
   "name": "python",
   "nbconvert_exporter": "python",
   "pygments_lexer": "ipython3",
   "version": "3.7.5"
  }
 },
 "nbformat": 4,
 "nbformat_minor": 2
}
